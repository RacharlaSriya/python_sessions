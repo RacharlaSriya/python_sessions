{
 "cells": [
  {
   "cell_type": "markdown",
   "id": "b7e330c0",
   "metadata": {},
   "source": [
    "#### Problem 1\n",
    "Suppose that a Firm pays its employee at the rate of $12 per hour. An employee has worked for 37\n",
    "hours. How much should the firm pay the employee? (Do normal way directly takes the input)"
   ]
  },
  {
   "cell_type": "code",
   "execution_count": null,
   "id": "39ed7767",
   "metadata": {},
   "outputs": [],
   "source": [
    "pay=12\n",
    "hours=37\n",
    "if pay==12:\n",
    "    print(pay*hours)"
   ]
  },
  {
   "cell_type": "code",
   "execution_count": null,
   "id": "0eeafb2f",
   "metadata": {},
   "outputs": [],
   "source": [
    "try:\n",
    "    pay=12\n",
    "    hours=37\n",
    "    if pay==12:\n",
    "        print(pay*hours)\n",
    "except Excdeption as e:\n",
    "    print(e)"
   ]
  },
  {
   "cell_type": "code",
   "execution_count": null,
   "id": "e725b3f9",
   "metadata": {},
   "outputs": [],
   "source": [
    "def paying():\n",
    "    pay=12\n",
    "    hours=37\n",
    "    if pay==12:\n",
    "        print(pay*hours)\n",
    "paying()"
   ]
  },
  {
   "cell_type": "code",
   "execution_count": null,
   "id": "c8513620",
   "metadata": {},
   "outputs": [],
   "source": [
    "def paying(pay,hours):\n",
    "    if pay==12:\n",
    "        print(pay*hours)\n",
    "pay=12\n",
    "hours=37\n",
    "paying(pay,hours)"
   ]
  },
  {
   "cell_type": "code",
   "execution_count": null,
   "id": "392e767f",
   "metadata": {},
   "outputs": [],
   "source": [
    "def paying(pay=12,hours=37):\n",
    "    if pay==12:\n",
    "        print(pay*hours)\n",
    "paying()"
   ]
  },
  {
   "cell_type": "markdown",
   "id": "0af9aa77",
   "metadata": {},
   "source": [
    "#### Problem 2\n",
    "How about prompting the user for the number of hours and using the input value to compute the\n",
    "total pay? (Above problem use eval concept and sep concept)"
   ]
  },
  {
   "cell_type": "code",
   "execution_count": null,
   "id": "e4753dab",
   "metadata": {},
   "outputs": [],
   "source": [
    "num_hrs=eval(input(\"Enter the number of hours: \"))\n",
    "if pay==12:\n",
    "    print(f\"Total pay to employee: ${num_hrs*17}\")"
   ]
  },
  {
   "cell_type": "code",
   "execution_count": null,
   "id": "ca252f1b",
   "metadata": {},
   "outputs": [],
   "source": [
    "try:\n",
    "    num_hrs=eval(input(\"Enter the number of hours: \"))\n",
    "    if pay==12:\n",
    "        print(f\"Total pay to employee: ${num_hrs*17}\")\n",
    "except Exception as e:\n",
    "    print(e)"
   ]
  },
  {
   "cell_type": "code",
   "execution_count": null,
   "id": "180b3b5f",
   "metadata": {},
   "outputs": [],
   "source": [
    "def paying():\n",
    "    num_hrs=eval(input(\"Enter the number of hours: \"))\n",
    "    if pay==12:\n",
    "        print(f\"Total pay to employee: ${num_hrs*17}\")\n",
    "paying()"
   ]
  },
  {
   "cell_type": "code",
   "execution_count": null,
   "id": "b6fc9f80",
   "metadata": {},
   "outputs": [],
   "source": [
    "def paying(num_hrs):\n",
    "    if pay==12:\n",
    "        print(f\"Total pay to employee: ${num_hrs*17}\")\n",
    "num_hrs=eval(input(\"Enter the number of hours: \"))\n",
    "paying(num_hrs)"
   ]
  },
  {
   "cell_type": "code",
   "execution_count": null,
   "id": "8721e086",
   "metadata": {},
   "outputs": [],
   "source": [
    "def paying(num_hrs=37):\n",
    "    if pay==12:\n",
    "        print(f\"Total pay to employee: ${num_hrs*17}\")\n",
    "paying()"
   ]
  },
  {
   "cell_type": "markdown",
   "id": "bf0d3c1a",
   "metadata": {},
   "source": [
    "#### Problem-3\n",
    "For a certain academic subject the students are evaluated based on five tests -\n",
    "- Quiz 1 (20 marks - 10% Weight)\n",
    "- Quiz 2 (20 marks - 10% Weight)\n",
    "- Class test (50 marks - 25% Weight)\n",
    "- Assignment (100 marks - 25% weight)\n",
    "- Project (200 marks - 30% weight).\n",
    " \n",
    " Design a program that will prompt the user for marks for each of the tests and calculate the overall\n",
    "marks (out of 100)."
   ]
  },
  {
   "cell_type": "code",
   "execution_count": null,
   "id": "46b4ecd1",
   "metadata": {},
   "outputs": [],
   "source": [
    "quiz1=eval(input(\"Enter the marks of the subject: \"))\n",
    "quiz2=eval(input(\"Enter the marks of the subject: \"))\n",
    "classtest=eval(input(\"Enter the marks of the subject: \"))\n",
    "assignment=eval(input(\"Enter the marks of the subject: \"))\n",
    "project=eval(input(\"Enter the marks of the subject: \"))\n",
    "if quiz1<=20 and quiz2<=20 and classtest<=50 and  assignment<=100 and project:\n",
    "    print(f\"Overall marks of student is {(quiz1*0.1)+(quiz2*0.1)+(classtest*0.25)+(assignment*0.25)+(project*0.3)}\")"
   ]
  },
  {
   "cell_type": "code",
   "execution_count": null,
   "id": "d933cbeb",
   "metadata": {},
   "outputs": [],
   "source": [
    "try:\n",
    "    quiz1=eval(input(\"Enter the marks of the subject: \"))\n",
    "    quiz2=eval(input(\"Enter the marks of the subject: \"))\n",
    "    classtest=eval(input(\"Enter the marks of the subject: \"))\n",
    "    assignment=eval(input(\"Enter the marks of the subject: \"))\n",
    "    project=eval(input(\"Enter the marks of the subject: \"))\n",
    "    if quiz1<=20 and quiz2<=20 and classtest<=50 and  assignment<=100 and project<=200:\n",
    "        print(f\"Overall marks of student is {(quiz1*0.1)+(quiz2*0.1)+(classtest*0.25)+(assignment*0.25)+(project*0.3)}\")\n",
    "except Exception as e:\n",
    "    print(e)"
   ]
  },
  {
   "cell_type": "code",
   "execution_count": null,
   "id": "d92f090d",
   "metadata": {},
   "outputs": [],
   "source": [
    "def result():\n",
    "    quiz1=eval(input(\"Enter the marks of the subject: \"))\n",
    "    quiz2=eval(input(\"Enter the marks of the subject: \"))\n",
    "    classtest=eval(input(\"Enter the marks of the subject: \"))\n",
    "    assignment=eval(input(\"Enter the marks of the subject: \"))\n",
    "    project=eval(input(\"Enter the marks of the subject: \"))\n",
    "    if quiz1<=20 and quiz2<=20 and classtest<=50 and  assignment<=100 and project<=200:\n",
    "        print(f\"Overall marks of student is {(quiz1*0.1)+(quiz2*0.1)+(classtest*0.25)+(assignment*0.25)+(project*0.3)}\")\n",
    "result()"
   ]
  },
  {
   "cell_type": "code",
   "execution_count": null,
   "id": "984353eb",
   "metadata": {},
   "outputs": [],
   "source": [
    "def result(quiz1,quiz2,classtest,assignment,project):\n",
    "    if quiz1<=20 and quiz2<=20 and classtest<=50 and  assignment<=100 and project<=200:\n",
    "        print(f\"Overall marks of student is {(quiz1*0.1)+(quiz2*0.1)+(classtest*0.25)+(assignment*0.25)+(project*0.3)}\")\n",
    "quiz1=eval(input(\"Enter the marks of the subject: \"))\n",
    "quiz2=eval(input(\"Enter the marks of the subject: \"))\n",
    "classtest=eval(input(\"Enter the marks of the subject: \"))\n",
    "assignment=eval(input(\"Enter the marks of the subject: \"))\n",
    "project=eval(input(\"Enter the marks of the subject: \"))\n",
    "result(quiz1,quiz2,classtest,assignment,project)"
   ]
  },
  {
   "cell_type": "code",
   "execution_count": null,
   "id": "27415692",
   "metadata": {},
   "outputs": [],
   "source": [
    "def result(quiz1=10,quiz2=10,classtest=25,assignment=50,project=100):\n",
    "    if quiz1<=20 and quiz2<=20 and classtest<=50 and  assignment<=100 and project<=200:\n",
    "        print(f\"Overall marks of student is {(quiz1*0.1)+(quiz2*0.1)+(classtest*0.25)+(assignment*0.25)+(project*0.3)}\")\n",
    "result()"
   ]
  },
  {
   "cell_type": "markdown",
   "id": "548200c5",
   "metadata": {},
   "source": [
    "#### Problem-4\n",
    "If a five-digit number is input through the keyboard, write a program to calculate the sum of its\n",
    "digits."
   ]
  },
  {
   "cell_type": "code",
   "execution_count": null,
   "id": "ce96c084",
   "metadata": {},
   "outputs": [],
   "source": [
    "number=eval(input(\"Enter the number: \"))\n",
    "if 10000<=number<=100000:\n",
    "    rem=number%10\n",
    "    sum_dig=rem\n",
    "    number=number//10\n",
    "    \n",
    "    rem=number%10\n",
    "    sum_dig=sum_dig+rem\n",
    "    number=number//10\n",
    "    \n",
    "    rem=number%10\n",
    "    sum_dig=sum_dig+rem\n",
    "    number=number//10\n",
    "    \n",
    "    rem=number%10\n",
    "    sum_dig=sum_dig+rem\n",
    "    number=number//10\n",
    "    \n",
    "    rem=number%10\n",
    "    sum_dig=sum_dig+rem\n",
    "    number=number//10\n",
    "    \n",
    "print(sum_dig)    "
   ]
  },
  {
   "cell_type": "code",
   "execution_count": null,
   "id": "ec81fef3",
   "metadata": {},
   "outputs": [],
   "source": [
    "try:\n",
    "    number=eval(input(\"Enter the number: \"))\n",
    "    if 10000<=number<=100000:\n",
    "        rem=number%10\n",
    "        sum_dig=rem\n",
    "        number=number//10\n",
    "\n",
    "        rem=number%10\n",
    "        sum_dig=sum_dig+rem\n",
    "        number=number//10\n",
    "\n",
    "        rem=number%10\n",
    "        sum_dig=sum_dig+rem\n",
    "        number=number//10\n",
    "\n",
    "        rem=number%10\n",
    "        sum_dig=sum_dig+rem\n",
    "        number=number//10\n",
    "\n",
    "        rem=number%10\n",
    "        sum_dig=sum_dig+rem\n",
    "        number=number//10\n",
    "\n",
    "    print(sum_dig)    \n",
    "except Exception as e:\n",
    "    print(e)"
   ]
  },
  {
   "cell_type": "code",
   "execution_count": null,
   "id": "955ce19c",
   "metadata": {},
   "outputs": [],
   "source": [
    "def sum_digit():\n",
    "    number=eval(input(\"Enter the number: \"))\n",
    "    if 10000<=number<=100000:\n",
    "        rem=number%10\n",
    "        sum_dig=rem\n",
    "        number=number//10\n",
    "\n",
    "        rem=number%10\n",
    "        sum_dig=sum_dig+rem\n",
    "        number=number//10\n",
    "\n",
    "        rem=number%10\n",
    "        sum_dig=sum_dig+rem\n",
    "        number=number//10\n",
    "\n",
    "        rem=number%10\n",
    "        sum_dig=sum_dig+rem\n",
    "        number=number//10\n",
    "\n",
    "        rem=number%10\n",
    "        sum_dig=sum_dig+rem\n",
    "        number=number//10\n",
    "\n",
    "    print(sum_dig)\n",
    "sum_digit()"
   ]
  },
  {
   "cell_type": "code",
   "execution_count": null,
   "id": "cdeb4885",
   "metadata": {},
   "outputs": [],
   "source": [
    "def sum_digit(number):\n",
    "    if 10000<=number<=100000:\n",
    "        rem=number%10\n",
    "        sum_dig=rem\n",
    "        number=number//10\n",
    "\n",
    "        rem=number%10\n",
    "        sum_dig=sum_dig+rem\n",
    "        number=number//10\n",
    "\n",
    "        rem=number%10\n",
    "        sum_dig=sum_dig+rem\n",
    "        number=number//10\n",
    "\n",
    "        rem=number%10\n",
    "        sum_dig=sum_dig+rem\n",
    "        number=number//10\n",
    "\n",
    "        rem=number%10\n",
    "        sum_dig=sum_dig+rem\n",
    "        number=number//10\n",
    "\n",
    "    print(sum_dig)\n",
    "number=eval(input(\"Enter the number: \"))\n",
    "sum_digit(number)"
   ]
  },
  {
   "cell_type": "code",
   "execution_count": null,
   "id": "3cbcb56d",
   "metadata": {},
   "outputs": [],
   "source": [
    "def sum_digit(number=45612):\n",
    "    if 10000<=number<=100000:\n",
    "        rem=number%10\n",
    "        sum_dig=rem\n",
    "        number=number//10\n",
    "\n",
    "        rem=number%10\n",
    "        sum_dig=sum_dig+rem\n",
    "        number=number//10\n",
    "\n",
    "        rem=number%10\n",
    "        sum_dig=sum_dig+rem\n",
    "        number=number//10\n",
    "\n",
    "        rem=number%10\n",
    "        sum_dig=sum_dig+rem\n",
    "        number=number//10\n",
    "\n",
    "        rem=number%10\n",
    "        sum_dig=sum_dig+rem\n",
    "        number=number//10\n",
    "\n",
    "    print(sum_dig)\n",
    "sum_digit()"
   ]
  },
  {
   "cell_type": "markdown",
   "id": "fab62123",
   "metadata": {},
   "source": [
    "#### Problem-5\n",
    "If a five-digit number is input through the keyboard, write a program to print a new number by\n",
    "adding one to each of its digits. For example if the number that is input is 12371 then the output\n",
    "should be displayed as 23482."
   ]
  },
  {
   "cell_type": "code",
   "execution_count": null,
   "id": "39b5cc5b",
   "metadata": {},
   "outputs": [],
   "source": [
    "number=eval(input(\"Enter the number: \"))\n",
    "if 10000<=number<=100000:\n",
    "    number=number+11111\n",
    "print(f'Output is {number}')"
   ]
  },
  {
   "cell_type": "code",
   "execution_count": null,
   "id": "58536d70",
   "metadata": {},
   "outputs": [],
   "source": [
    "try:\n",
    "    number=eval(input(\"Enter the number: \"))\n",
    "    if 10000<=number<=100000:\n",
    "        number=number+11111\n",
    "    print(f'Output is {number}')\n",
    "except Exception as e:\n",
    "    print(e)"
   ]
  },
  {
   "cell_type": "code",
   "execution_count": null,
   "id": "bcc4dfa4",
   "metadata": {},
   "outputs": [],
   "source": [
    "def sum1():\n",
    "    number=eval(input(\"Enter the number: \"))\n",
    "    if 10000<=number<=100000:\n",
    "        number=number+11111\n",
    "    print(f'Output is {number}')\n",
    "sum1()"
   ]
  },
  {
   "cell_type": "code",
   "execution_count": null,
   "id": "7ec2f524",
   "metadata": {},
   "outputs": [],
   "source": [
    "def sum1(number):\n",
    "    if 10000<=number<=100000:\n",
    "        number=number+11111\n",
    "    print(f'Output is {number}')\n",
    "number=eval(input(\"Enter the number: \"))\n",
    "sum1(number)"
   ]
  },
  {
   "cell_type": "code",
   "execution_count": null,
   "id": "f5c4f287",
   "metadata": {},
   "outputs": [],
   "source": [
    "def sum1(number=45612):\n",
    "    if 10000<=number<=100000:\n",
    "        number=number+11111\n",
    "    print(f'Output is {number}')\n",
    "sum1()"
   ]
  },
  {
   "cell_type": "markdown",
   "id": "eae6c6d0",
   "metadata": {},
   "source": [
    "#### Problem-6: (Use conditional statements)\n",
    "\n",
    "**Recall the problem:**\n",
    "\n",
    "For a certain academic subject the students are evaluated based on five tests - * Quiz 1 (20 marks - 10% Weight), * Quiz 2 (20 marks - 10% Weight), * Class test (50 marks - 25% Weight), * Assignment (100 marks - 25% weight) and\n",
    "* Project (200 marks - 30% weight).\n",
    "\n",
    "Design a program that will prompt the user for marks for each of the tests and calculate the overall\n",
    "marks (out of 100).\n",
    "\n",
    "#### Add an extension to the problem to display grades:\n",
    "Display the grades of students using the following table:\n",
    "\n",
    "Score Grade\n",
    "- >= 60 First Class\n",
    "- >= 40 Second Class\n",
    "- <40 Fail"
   ]
  },
  {
   "cell_type": "code",
   "execution_count": null,
   "id": "86caeb67",
   "metadata": {},
   "outputs": [],
   "source": [
    "quiz1=eval(input(\"Enter the marks of the subject: \"))\n",
    "quiz2=eval(input(\"Enter the marks of the subject: \"))\n",
    "classtest=eval(input(\"Enter the marks of the subject: \"))\n",
    "assignment=eval(input(\"Enter the marks of the subject: \"))\n",
    "project=eval(input(\"Enter the marks of the subject: \"))\n",
    "result=(quiz1*0.1)+(quiz2*0.1)+(classtest*0.25)+(assignment*0.25)+(project*0.3)\n",
    "if result>=60:\n",
    "    print(\"First Class\")\n",
    "elif result>=40:\n",
    "    print(\"Second Class\")\n",
    "else:\n",
    "    print(\"Fail\")\n",
    "print(result)"
   ]
  },
  {
   "cell_type": "code",
   "execution_count": null,
   "id": "4f01ce7e",
   "metadata": {},
   "outputs": [],
   "source": [
    "try:\n",
    "    quiz1=eval(input(\"Enter the marks of the subject: \"))\n",
    "    quiz2=eval(input(\"Enter the marks of the subject: \"))\n",
    "    classtest=eval(input(\"Enter the marks of the subject: \"))\n",
    "    assignment=eval(input(\"Enter the marks of the subject: \"))\n",
    "    project=eval(input(\"Enter the marks of the subject: \"))\n",
    "    result=(quiz1*0.1)+(quiz2*0.1)+(classtest*0.25)+(assignment*0.25)+(project*0.3)\n",
    "    if result>=60:\n",
    "        print(\"First Class\")\n",
    "    elif result>=40:\n",
    "        print(\"Second Class\")\n",
    "    else:\n",
    "        print(\"Fail\")\n",
    "    print(result)\n",
    "except Exception as e:\n",
    "    print(e)"
   ]
  },
  {
   "cell_type": "code",
   "execution_count": null,
   "id": "c3e80a7d",
   "metadata": {},
   "outputs": [],
   "source": [
    "def grade():\n",
    "    quiz1=eval(input(\"Enter the marks of the subject: \"))\n",
    "    quiz2=eval(input(\"Enter the marks of the subject: \"))\n",
    "    classtest=eval(input(\"Enter the marks of the subject: \"))\n",
    "    assignment=eval(input(\"Enter the marks of the subject: \"))\n",
    "    project=eval(input(\"Enter the marks of the subject: \"))\n",
    "    result=(quiz1*0.1)+(quiz2*0.1)+(classtest*0.25)+(assignment*0.25)+(project*0.3)\n",
    "    if result>=60:\n",
    "        print(\"First Class\")\n",
    "    elif result>=40:\n",
    "        print(\"Second Class\")\n",
    "    else:\n",
    "        print(\"Fail\")\n",
    "    print(result)\n",
    "grade()"
   ]
  },
  {
   "cell_type": "code",
   "execution_count": null,
   "id": "a1296329",
   "metadata": {},
   "outputs": [],
   "source": [
    "def grade(quiz1,quiz2,classtest,assignment,project):\n",
    "    result=(quiz1*0.1)+(quiz2*0.1)+(classtest*0.25)+(assignment*0.25)+(project*0.3)\n",
    "    if result>=60:\n",
    "        print(\"First Class\")\n",
    "    elif result>=40:\n",
    "        print(\"Second Class\")\n",
    "    else:\n",
    "        print(\"Fail\")\n",
    "    print(result)\n",
    "quiz1=eval(input(\"Enter the marks of the subject: \"))\n",
    "quiz2=eval(input(\"Enter the marks of the subject: \"))\n",
    "classtest=eval(input(\"Enter the marks of the subject: \"))\n",
    "assignment=eval(input(\"Enter the marks of the subject: \"))\n",
    "project=eval(input(\"Enter the marks of the subject: \"))\n",
    "grade(quiz1,quiz2,classtest,assignment,project)"
   ]
  },
  {
   "cell_type": "code",
   "execution_count": null,
   "id": "3774e653",
   "metadata": {},
   "outputs": [],
   "source": [
    "def grade(quiz1=10,quiz2=10,classtest=25,assignment=50,project=100):\n",
    "    result=(quiz1*0.1)+(quiz2*0.1)+(classtest*0.25)+(assignment*0.25)+(project*0.3)\n",
    "    if result>=60:\n",
    "        print(\"First Class\")\n",
    "    elif result>=40:\n",
    "        print(\"Second Class\")\n",
    "    else:\n",
    "        print(\"Fail\")\n",
    "    print(result)\n",
    "grade()"
   ]
  },
  {
   "cell_type": "markdown",
   "id": "704e70f7",
   "metadata": {},
   "source": [
    "#### Problem-7: (Use conditional statements)\n",
    "\n",
    "** Recall the problem:**\n",
    "\n",
    "How about prompting the user for the number of hours and using the input value to compute the\n",
    "total pay?"
   ]
  },
  {
   "cell_type": "code",
   "execution_count": null,
   "id": "a151390d",
   "metadata": {},
   "outputs": [],
   "source": [
    "num_hrs=eval(input(\"Enter the number of hours: \"))\n",
    "if pay==12:\n",
    "    print(f\"Total pay to employee: ${num_hrs*17}\")"
   ]
  },
  {
   "cell_type": "code",
   "execution_count": null,
   "id": "59a6eea7",
   "metadata": {},
   "outputs": [],
   "source": [
    "try:\n",
    "    num_hrs=eval(input(\"Enter the number of hours: \"))\n",
    "    if pay==12:\n",
    "        print(f\"Total pay to employee: ${num_hrs*17}\")\n",
    "except Exception as e:\n",
    "    print(e)"
   ]
  },
  {
   "cell_type": "code",
   "execution_count": null,
   "id": "875115a8",
   "metadata": {},
   "outputs": [],
   "source": [
    "def paying():\n",
    "    num_hrs=eval(input(\"Enter the number of hours: \"))\n",
    "    if pay==12:\n",
    "        print(f\"Total pay to employee: ${num_hrs*17}\")\n",
    "paying()"
   ]
  },
  {
   "cell_type": "code",
   "execution_count": null,
   "id": "266cd87d",
   "metadata": {},
   "outputs": [],
   "source": [
    "def paying(num_hrs):\n",
    "    if pay==12:\n",
    "        print(f\"Total pay to employee: ${num_hrs*17}\")\n",
    "num_hrs=eval(input(\"Enter the number of hours: \"))\n",
    "paying(num_hrs)"
   ]
  },
  {
   "cell_type": "code",
   "execution_count": null,
   "id": "c6e01bd4",
   "metadata": {},
   "outputs": [],
   "source": [
    "def paying(num_hrs=37):\n",
    "    if pay==12:\n",
    "        print(f\"Total pay to employee: ${num_hrs*17}\")\n",
    "paying()"
   ]
  },
  {
   "cell_type": "markdown",
   "id": "6a7054a0",
   "metadata": {},
   "source": [
    "#### Problem-8\n",
    "** try & except **\n",
    "\n",
    "Rewrite the pay program (refer problem 2) using try and expect so that the program handles non-\n",
    "numeric input gracefully by printing a message and exiting the program. The following shows two\n",
    "\n",
    "executions of the program:\n",
    "\n",
    "Enter hours: 20\n",
    "Enter rate: nine\n",
    "Error, please enter numeric input"
   ]
  },
  {
   "cell_type": "code",
   "execution_count": null,
   "id": "74998c36",
   "metadata": {},
   "outputs": [],
   "source": [
    "num_hrs=eval(input(\"Enter the number of hours: \"))\n",
    "if pay==12:\n",
    "    print(f\"Total pay to employee: ${num_hrs*17}\")"
   ]
  },
  {
   "cell_type": "code",
   "execution_count": null,
   "id": "0015dafe",
   "metadata": {},
   "outputs": [],
   "source": [
    "try:\n",
    "    num_hrs=eval(input(\"Enter the number of hours: \"))\n",
    "    if pay==12:\n",
    "        print(f\"Total pay to employee: ${num_hrs*17}\")\n",
    "except:\n",
    "    print(\"Error, please enter numeric input\")"
   ]
  },
  {
   "cell_type": "code",
   "execution_count": null,
   "id": "491668e4",
   "metadata": {},
   "outputs": [],
   "source": [
    "def paying():\n",
    "    try:\n",
    "        num_hrs=eval(input(\"Enter the number of hours: \"))\n",
    "        if pay==12:\n",
    "            print(f\"Total pay to employee: ${num_hrs*17}\")\n",
    "    except:\n",
    "        print(\"Error, please enter numeric input\")\n",
    "paying()"
   ]
  },
  {
   "cell_type": "code",
   "execution_count": null,
   "id": "936ecc01",
   "metadata": {},
   "outputs": [],
   "source": [
    "def paying():\n",
    "    try:\n",
    "        if pay==12:\n",
    "            print(f\"Total pay to employee: ${num_hrs*17}\")\n",
    "    except:\n",
    "        print(\"Error, please enter numeric input\")\n",
    "num_hrs=eval(input(\"Enter the number of hours: \"))\n",
    "paying(num_hrs)"
   ]
  },
  {
   "cell_type": "code",
   "execution_count": null,
   "id": "ab991aaa",
   "metadata": {},
   "outputs": [],
   "source": [
    "def paying(num_hrs=50):\n",
    "    try:\n",
    "        if pay==12:\n",
    "            print(f\"Total pay to employee: ${num_hrs*17}\")\n",
    "    except:\n",
    "        print(\"Error, please enter numeric input\")\n",
    "paying()"
   ]
  },
  {
   "cell_type": "markdown",
   "id": "cc4d2230",
   "metadata": {},
   "source": [
    "#### Problem-9(Use conditional statements)\n",
    "\n",
    "Write a program that asks the user to enter a length in centimeters. If the user enters a negative\n",
    "length, the program should tell the user that the entry is invalid. Otherwise, the program should\n",
    "convert the length to inches and print out the result. There are 2.54 centimeters in an inch."
   ]
  },
  {
   "cell_type": "code",
   "execution_count": null,
   "id": "4db94203",
   "metadata": {},
   "outputs": [],
   "source": [
    "length=eval(input(\"Enter the length in cms: \"))\n",
    "if length<0:\n",
    "    print(\"The entry is invalid\")\n",
    "else:\n",
    "    print(f\"Length in inches: {length/2.54:.2f}\")"
   ]
  },
  {
   "cell_type": "code",
   "execution_count": null,
   "id": "371ee9e8",
   "metadata": {},
   "outputs": [],
   "source": [
    "try:\n",
    "    length=eval(input(\"Enter the length in cms: \"))\n",
    "    if length<0:\n",
    "        print(\"The entry is invalid\")\n",
    "    else:\n",
    "        print(f\"Length in inches: {length/2.54:.2f}\")\n",
    "except Exception as e:\n",
    "    print(e)"
   ]
  },
  {
   "cell_type": "code",
   "execution_count": null,
   "id": "627dd210",
   "metadata": {},
   "outputs": [],
   "source": [
    "def convert():\n",
    "    length=eval(input(\"Enter the length in cms: \"))\n",
    "    if length<0:\n",
    "        print(\"The entry is invalid\")\n",
    "    else:\n",
    "        print(f\"Length in inches: {length/2.54:.2f}\")\n",
    "convert()"
   ]
  },
  {
   "cell_type": "code",
   "execution_count": null,
   "id": "dcebc72a",
   "metadata": {},
   "outputs": [],
   "source": [
    "def convert(length):\n",
    "    if length<0:\n",
    "        print(\"The entry is invalid\")\n",
    "    else:\n",
    "        print(f\"Length in inches: {length/2.54:.2f}\")\n",
    "length=eval(input(\"Enter the length in cms: \"))\n",
    "convert(length)"
   ]
  },
  {
   "cell_type": "code",
   "execution_count": null,
   "id": "8b3a033e",
   "metadata": {},
   "outputs": [],
   "source": [
    "def convert(length=100):\n",
    "    if length<0:\n",
    "        print(\"The entry is invalid\")\n",
    "    else:\n",
    "        print(f\"Length in inches: {length/2.54:.2f}\")\n",
    "convert()"
   ]
  },
  {
   "cell_type": "markdown",
   "id": "c20703d4",
   "metadata": {},
   "source": [
    "#### Problem-10(Use conditional statements)\n",
    "Ask the user for a temperature. Then ask them what units, Celsius or Fahrenheit, the temperature is\n",
    "in. Your program should convert the temperature to the other unit. The conversions are F = 9 5 C +\n",
    "32 and C = 5 9 (F − 32)."
   ]
  },
  {
   "cell_type": "code",
   "execution_count": null,
   "id": "73981d4a",
   "metadata": {},
   "outputs": [],
   "source": [
    "temperature=eval(input(\"Enter the temperature: \"))\n",
    "unit=input('Enter the unit of temperature (C/F): ')\n",
    "if unit==\"C\":\n",
    "    print(f\"Temperatue in Fahrenheit is {(temperature*1.8)+32}\")\n",
    "elif unit==\"F\":\n",
    "    print(f\"Temperature in Celsius is {(temperature-32)*(5/9):.2f}\")\n",
    "else:\n",
    "    print(\"Given unit is invalid\")"
   ]
  },
  {
   "cell_type": "code",
   "execution_count": null,
   "id": "acb032aa",
   "metadata": {},
   "outputs": [],
   "source": [
    "try:\n",
    "    temperature=eval(input(\"Enter the temperature: \"))\n",
    "    unit=input('Enter the unit of temperature (C/F): ')\n",
    "    if unit==\"C\":\n",
    "        print(f\"Temperatue in Fahrenheit is {(temperature*1.8)+32}\")\n",
    "    elif unit==\"F\":\n",
    "        print(f\"Temperature in Celsius is {(temperature-32)*(5/9):.2f}\")\n",
    "    else:\n",
    "        print(\"Given unit is invalid\")\n",
    "except Exception as e:\n",
    "    print(e)"
   ]
  },
  {
   "cell_type": "code",
   "execution_count": null,
   "id": "555c86a4",
   "metadata": {},
   "outputs": [],
   "source": [
    "def temp_convert():\n",
    "    temperature=eval(input(\"Enter the temperature: \"))\n",
    "    unit=input('Enter the unit of temperature (C/F): ')\n",
    "    if unit==\"C\":\n",
    "        print(f\"Temperatue in Fahrenheit is {(temperature*1.8)+32}\")\n",
    "    elif unit==\"F\":\n",
    "        print(f\"Temperature in Celsius is {(temperature-32)*(5/9):.2f}\")\n",
    "    else:\n",
    "        print(\"Given unit is invalid\")\n",
    "temp_convert()"
   ]
  },
  {
   "cell_type": "code",
   "execution_count": null,
   "id": "6649ecfd",
   "metadata": {},
   "outputs": [],
   "source": [
    "def temp_convert(temperature,unit):\n",
    "    if unit==\"C\":\n",
    "        print(f\"Temperatue in Fahrenheit is {(temperature*1.8)+32}\")\n",
    "    elif unit==\"F\":\n",
    "        print(f\"Temperature in Celsius is {(temperature-32)*(5/9):.2f}\")\n",
    "    else:\n",
    "        print(\"Given unit is invalid\")\n",
    "temperature=eval(input(\"Enter the temperature: \"))\n",
    "unit=input('Enter the unit of temperature (C/F): ')\n",
    "temp_convert(temperature,unit)"
   ]
  },
  {
   "cell_type": "code",
   "execution_count": null,
   "id": "02822c59",
   "metadata": {},
   "outputs": [],
   "source": [
    "def temp_convert(temperature=50,unit=\"C\"):\n",
    "    if unit==\"C\":\n",
    "        print(f\"Temperatue in Fahrenheit is {(temperature*1.8)+32}\")\n",
    "    elif unit==\"F\":\n",
    "        print(f\"Temperature in Celsius is {(temperature-32)*(5/9):.2f}\")\n",
    "    else:\n",
    "        print(\"Given unit is invalid\")\n",
    "temp_convert()"
   ]
  },
  {
   "cell_type": "markdown",
   "id": "c512a14b",
   "metadata": {},
   "source": [
    "#### Problem-11(Use conditional statements)\n",
    "Ask the user to enter a temperature in Celsius. The program should print a message based on the\n",
    "temperature: \n",
    "• If the temperature is less than -273.15, print that the temperature is invalid because it is\n",
    "below absolute zero. \n",
    "• If it is exactly -273.15, print that the temperature is absolute 0. \n",
    "• If the temperature is between -273.15 and 0, print that the temperature is below freezing. \n",
    "• If it is 0, print that the temperature is at the freezing point. \n",
    "• If it is between 0 and 100, print that the temperature is in the normal range. \n",
    "• If it is 100, print that the temperature is at the boiling point. \n",
    "• If it is above 100, print that the temperature is above the boiling point."
   ]
  },
  {
   "cell_type": "code",
   "execution_count": null,
   "id": "5913e276",
   "metadata": {},
   "outputs": [],
   "source": [
    "temp=eval(input(\"Enter the temperature: \"))\n",
    "if temp==-273.15:\n",
    "    print(\"The temperature is invalid because it is below absolute zero\")\n",
    "elif temp==-273.15:\n",
    "    print(\"The temperature is absolute 0\")\n",
    "elif temp<0:\n",
    "    print(\"The temperature is below freezing\")\n",
    "elif temp==0:\n",
    "    print(\"The temperature is at the freezing point\")\n",
    "elif temp<100:\n",
    "    print(\"The temperature is in the normal range\")\n",
    "elif temp==100:\n",
    "    print(\"The temperature is at the boiling point\")\n",
    "else:\n",
    "    print(\"The temperature is above the boiling point\")"
   ]
  },
  {
   "cell_type": "code",
   "execution_count": null,
   "id": "ca572e57",
   "metadata": {},
   "outputs": [],
   "source": [
    "try:\n",
    "    temp=eval(input(\"Enter the temperature: \"))\n",
    "    if temp==-273.15:\n",
    "        print(\"The temperature is invalid because it is below absolute zero\")\n",
    "    elif temp==-273.15:\n",
    "        print(\"The temperature is absolute 0\")\n",
    "    elif temp<0:\n",
    "        print(\"The temperature is below freezing\")\n",
    "    elif temp==0:\n",
    "        print(\"The temperature is at the freezing point\")\n",
    "    elif temp<100:\n",
    "        print(\"The temperature is in the normal range\")\n",
    "    elif temp==100:\n",
    "        print(\"The temperature is at the boiling point\")\n",
    "    else:\n",
    "        print(\"The temperature is above the boiling point\")\n",
    "except Excception as e:\n",
    "    print(e)"
   ]
  },
  {
   "cell_type": "code",
   "execution_count": null,
   "id": "1a653d47",
   "metadata": {},
   "outputs": [],
   "source": [
    "def temp_def():\n",
    "    temp=eval(input(\"Enter the temperature: \"))\n",
    "    if temp==-273.15:\n",
    "        print(\"The temperature is invalid because it is below absolute zero\")\n",
    "    elif temp==-273.15:\n",
    "        print(\"The temperature is absolute 0\")\n",
    "    elif temp<0:\n",
    "        print(\"The temperature is below freezing\")\n",
    "    elif temp==0:\n",
    "        print(\"The temperature is at the freezing point\")\n",
    "    elif temp<100:\n",
    "        print(\"The temperature is in the normal range\")\n",
    "    elif temp==100:\n",
    "        print(\"The temperature is at the boiling point\")\n",
    "    else:\n",
    "        print(\"The temperature is above the boiling point\")\n",
    "temp_def()"
   ]
  },
  {
   "cell_type": "code",
   "execution_count": null,
   "id": "9ec54ecf",
   "metadata": {},
   "outputs": [],
   "source": [
    "def temp_def(temp):\n",
    "    if temp==-273.15:\n",
    "        print(\"The temperature is invalid because it is below absolute zero\")\n",
    "    elif temp==-273.15:\n",
    "        print(\"The temperature is absolute 0\")\n",
    "    elif temp<0:\n",
    "        print(\"The temperature is below freezing\")\n",
    "    elif temp==0:\n",
    "        print(\"The temperature is at the freezing point\")\n",
    "    elif temp<100:\n",
    "        print(\"The temperature is in the normal range\")\n",
    "    elif temp==100:\n",
    "        print(\"The temperature is at the boiling point\")\n",
    "    else:\n",
    "        print(\"The temperature is above the boiling point\")\n",
    "temp=eval(input(\"Enter the temperature: \"))\n",
    "temp_def(temp)"
   ]
  },
  {
   "cell_type": "code",
   "execution_count": null,
   "id": "396634a5",
   "metadata": {},
   "outputs": [],
   "source": [
    "def temp_def(temp=25):\n",
    "    if temp==-273.15:\n",
    "        print(\"The temperature is invalid because it is below absolute zero\")\n",
    "    elif temp==-273.15:\n",
    "        print(\"The temperature is absolute 0\")\n",
    "    elif temp<0:\n",
    "        print(\"The temperature is below freezing\")\n",
    "    elif temp==0:\n",
    "        print(\"The temperature is at the freezing point\")\n",
    "    elif temp<100:\n",
    "        print(\"The temperature is in the normal range\")\n",
    "    elif temp==100:\n",
    "        print(\"The temperature is at the boiling point\")\n",
    "    else:\n",
    "        print(\"The temperature is above the boiling point\")\n",
    "temp_def()"
   ]
  },
  {
   "cell_type": "markdown",
   "id": "cc07970a",
   "metadata": {},
   "source": [
    "#### Problem-12(Use conditional statements)\n",
    "Write a program that asks the user how many credits they have taken. If they have taken 23 or less,\n",
    "print that the student is a freshman. If they have taken between 24 and 53, print that they are a\n",
    "sophomore. The range for juniors is 54 to 83, and for seniors it is 84 and over."
   ]
  },
  {
   "cell_type": "code",
   "execution_count": null,
   "id": "45861f20",
   "metadata": {},
   "outputs": [],
   "source": [
    "credits=eval(input(\"Enter the credits the student have taken: \"))\n",
    "if credits>=84:\n",
    "    print(\"The student is senior\")\n",
    "elif credits>=54:\n",
    "    print(\"The student is junior\")\n",
    "elif credits>=24:\n",
    "    print(\"The student sophmore\")\n",
    "else:\n",
    "    print(\"The student is a freshman\")"
   ]
  },
  {
   "cell_type": "code",
   "execution_count": null,
   "id": "fa8cfd79",
   "metadata": {},
   "outputs": [],
   "source": [
    "try:\n",
    "    credits=eval(input(\"Enter the credits the student have taken: \"))\n",
    "    if credits>=84:\n",
    "        print(\"The student is senior\")\n",
    "    elif credits>=54:\n",
    "        print(\"The student is junior\")\n",
    "    elif credits>=24:\n",
    "        print(\"The student sophmore\")\n",
    "    else:\n",
    "        print(\"The student is a freshman\")\n",
    "except Exception as e:\n",
    "    print(e)"
   ]
  },
  {
   "cell_type": "code",
   "execution_count": null,
   "id": "baa2b558",
   "metadata": {},
   "outputs": [],
   "source": [
    "def credit():\n",
    "    credits=eval(input(\"Enter the credits the student have taken: \"))\n",
    "    if credits>=84:\n",
    "        print(\"The student is senior\")\n",
    "    elif credits>=54:\n",
    "        print(\"The student is junior\")\n",
    "    elif credits>=24:\n",
    "        print(\"The student sophmore\")\n",
    "    else:\n",
    "        print(\"The student is a freshman\")\n",
    "credit()"
   ]
  },
  {
   "cell_type": "code",
   "execution_count": null,
   "id": "aa82a85c",
   "metadata": {},
   "outputs": [],
   "source": [
    "def credit(credits):\n",
    "    if credits>=84:\n",
    "        print(\"The student is senior\")\n",
    "    elif credits>=54:\n",
    "        print(\"The student is junior\")\n",
    "    elif credits>=24:\n",
    "        print(\"The student sophmore\")\n",
    "    else:\n",
    "        print(\"The student is a freshman\")\n",
    "credits=eval(input(\"Enter the credits the student have taken: \"))\n",
    "credit(credits)"
   ]
  },
  {
   "cell_type": "code",
   "execution_count": null,
   "id": "c550f3ab",
   "metadata": {},
   "outputs": [],
   "source": [
    "def credit(credits=85):\n",
    "    if credits>=84:\n",
    "        print(\"The student is senior\")\n",
    "    elif credits>=54:\n",
    "        print(\"The student is junior\")\n",
    "    elif credits>=24:\n",
    "        print(\"The student sophmore\")\n",
    "    else:\n",
    "        print(\"The student is a freshman\")\n",
    "credit()"
   ]
  },
  {
   "cell_type": "markdown",
   "id": "5cb6879c",
   "metadata": {},
   "source": [
    "#### Problem-13(Use conditional statements)\n",
    "Generate a random number between 1 and 10. Ask the user to guess the number and print a\n",
    "message based on whether they get it right or not."
   ]
  },
  {
   "cell_type": "code",
   "execution_count": null,
   "id": "cd893b5f",
   "metadata": {},
   "outputs": [],
   "source": [
    "import random\n",
    "random_num=random.randint(1,10)\n",
    "num=eval(input(\"Enter the number you want to guess: \"))\n",
    "if random_num==num:\n",
    "    print(\"You got it right\")\n",
    "else:\n",
    "    print(f\"You got it wrong. Random number is {random_num}\")"
   ]
  },
  {
   "cell_type": "code",
   "execution_count": null,
   "id": "bed77145",
   "metadata": {},
   "outputs": [],
   "source": [
    "try:\n",
    "    import random\n",
    "    random_num=random.randint(1,10)\n",
    "    num=eval(input(\"Enter the number you want to guess: \"))\n",
    "    if random_num==num:\n",
    "        print(\"You got it right\")\n",
    "    else:\n",
    "        print(f\"You got it wrong. Random number is {random_num}\")\n",
    "except Exception as e:\n",
    "    print(e)"
   ]
  },
  {
   "cell_type": "code",
   "execution_count": null,
   "id": "8cf33a43",
   "metadata": {},
   "outputs": [],
   "source": [
    "def guess():\n",
    "    import random\n",
    "    random_num=random.randint(1,10)\n",
    "    num=eval(input(\"Enter the number you want to guess: \"))\n",
    "    if random_num==num:\n",
    "        print(\"You got it right\")\n",
    "    else:\n",
    "        print(f\"You got it wrong. Random number is {random_num}\")\n",
    "guess()"
   ]
  },
  {
   "cell_type": "code",
   "execution_count": null,
   "id": "2ccf92a5",
   "metadata": {},
   "outputs": [],
   "source": [
    "import random\n",
    "random_num=random.randint(1,10)\n",
    "num=eval(input(\"Enter the number you want to guess: \"))\n",
    "def guess(random_num,num):\n",
    "    if random_num==num:\n",
    "        print(\"You got it right\")\n",
    "    else:\n",
    "        print(f\"You got it wrong. Random number is {random_num}\")\n",
    "guess(random_num,num)"
   ]
  },
  {
   "cell_type": "code",
   "execution_count": null,
   "id": "12518453",
   "metadata": {},
   "outputs": [],
   "source": [
    "import random\n",
    "random_num=random.randint(1,10)\n",
    "def guess(random_num,num=9):\n",
    "    if random_num==num:\n",
    "        print(\"You got it right\")\n",
    "    else:\n",
    "        print(f\"You got it wrong. Random number is {random_num}\")\n",
    "guess(random_num)"
   ]
  },
  {
   "cell_type": "markdown",
   "id": "4ad6bb77",
   "metadata": {},
   "source": [
    "#### Problem-14(Use conditional statements)\n",
    "A store charges $12 per item if you buy less than 10 items. If you buy between 10 and 99 items, the\n",
    "cost is $10 per item. If you buy 100 or more items, the cost is $7 per item. Write a program that asks\n",
    "the user how many items they are buying and prints the total cost.\n"
   ]
  },
  {
   "cell_type": "code",
   "execution_count": null,
   "id": "2f22ae64",
   "metadata": {},
   "outputs": [],
   "source": [
    "items=eval(input(\"Enter the number of items that are being bought: \"))\n",
    "if items>=100:\n",
    "    print(f\"Total cost of the items: ${items*10}\")\n",
    "else:\n",
    "    print(f\"Total cost of the items: ${items*12}\")"
   ]
  },
  {
   "cell_type": "code",
   "execution_count": null,
   "id": "841f941b",
   "metadata": {},
   "outputs": [],
   "source": [
    "try:\n",
    "    items=eval(input(\"Enter the number of items that are being bought: \"))\n",
    "    if items>=100:\n",
    "        print(f\"Total cost of the items: ${items*10}\")\n",
    "    else:\n",
    "        print(f\"Total cost of the items: ${items*12}\")\n",
    "except Exception as e:\n",
    "    print(e)"
   ]
  },
  {
   "cell_type": "code",
   "execution_count": null,
   "id": "f615c06d",
   "metadata": {},
   "outputs": [],
   "source": [
    "def tot_cost():\n",
    "    items=eval(input(\"Enter the number of items that are being bought: \"))\n",
    "    if items>=100:\n",
    "        print(f\"Total cost of the items: ${items*10}\")\n",
    "    else:\n",
    "        print(f\"Total cost of the items: ${items*12}\")\n",
    "tot_cost()"
   ]
  },
  {
   "cell_type": "code",
   "execution_count": null,
   "id": "223d3554",
   "metadata": {},
   "outputs": [],
   "source": [
    "def tot_cost(items):\n",
    "    if items>=100:\n",
    "        print(f\"Total cost of the items: ${items*10}\")\n",
    "    else:\n",
    "        print(f\"Total cost of the items: ${items*12}\")\n",
    "items=eval(input(\"Enter the number of items that are being bought: \"))\n",
    "tot_cost(items)"
   ]
  },
  {
   "cell_type": "code",
   "execution_count": null,
   "id": "e49c9aba",
   "metadata": {},
   "outputs": [],
   "source": [
    "def tot_cost(items=108):\n",
    "    if items>=100:\n",
    "        print(f\"Total cost of the items: ${items*10}\")\n",
    "    else:\n",
    "        print(f\"Total cost of the items: ${items*12}\")\n",
    "tot_cost()"
   ]
  },
  {
   "cell_type": "markdown",
   "id": "d90f54c4",
   "metadata": {},
   "source": [
    "#### Problem-15(Use conditional statements)\n",
    "Write a program that asks the user for two numbers and prints Close if the numbers are within .001\n",
    "of each other and Not close otherwise."
   ]
  },
  {
   "cell_type": "code",
   "execution_count": null,
   "id": "c7142b78",
   "metadata": {},
   "outputs": [],
   "source": [
    "n1=eval(input(\"Enter the 1st number: \"))\n",
    "n2=eval(input(\"Enter the 2nd number: \"))\n",
    "if abs(n1-n2)<=0.001:\n",
    "    print(\"The numbers are close\")\n",
    "else:\n",
    "    print(\"The numbers are not Close\")"
   ]
  },
  {
   "cell_type": "code",
   "execution_count": null,
   "id": "0de9799f",
   "metadata": {},
   "outputs": [],
   "source": [
    "try:\n",
    "    n1=eval(input(\"Enter the 1st number: \"))\n",
    "    n2=eval(input(\"Enter the 2nd number: \"))\n",
    "    if abs(n1-n2)<=.001:\n",
    "        print(\"The numbers are close\")\n",
    "    else:\n",
    "        print(\"The numbers are not Close\")\n",
    "except Exception as e:\n",
    "    print(e)"
   ]
  },
  {
   "cell_type": "code",
   "execution_count": null,
   "id": "25413f58",
   "metadata": {},
   "outputs": [],
   "source": [
    "def close():\n",
    "    n1=eval(input(\"Enter the 1st number: \"))\n",
    "    n2=eval(input(\"Enter the 2nd number: \"))\n",
    "    if abs(n1-n2)<=0.001:\n",
    "        print(\"The numbers are close\")\n",
    "    else:\n",
    "        print(\"The numbers are not Close\")\n",
    "close()"
   ]
  },
  {
   "cell_type": "code",
   "execution_count": null,
   "id": "287ba1b0",
   "metadata": {},
   "outputs": [],
   "source": [
    "def close(n1,n2):\n",
    "    if abs(n1-n2)<=0.001:\n",
    "        print(\"The numbers are close\")\n",
    "    else:\n",
    "        print(\"The numbers are not Close\")\n",
    "n1=eval(input(\"Enter the 1st number: \"))\n",
    "n2=eval(input(\"Enter the 2nd number: \"))\n",
    "close(n1,n2)"
   ]
  },
  {
   "cell_type": "code",
   "execution_count": null,
   "id": "f714f974",
   "metadata": {},
   "outputs": [],
   "source": [
    "def close(n1=5,n2=5.00002):\n",
    "    if abs(n1-n2)<=0.001:\n",
    "        print(\"The numbers are close\")\n",
    "    else:\n",
    "        print(\"The numbers are not Close\")\n",
    "close()"
   ]
  },
  {
   "cell_type": "markdown",
   "id": "58e1a3d2",
   "metadata": {},
   "source": [
    "#### Problem-16(Use conditional statements)\n",
    "A year is a leap year if it is divisible by 4, except that years divisible by 100 are not leap years unless\n",
    "they are also divisible by 400. Write a program that asks the user for a year and prints out whether it\n",
    "is a leap year or not."
   ]
  },
  {
   "cell_type": "code",
   "execution_count": null,
   "id": "30bc2883",
   "metadata": {},
   "outputs": [],
   "source": [
    "year=eval(input(\"Enter the year: \"))\n",
    "if year%4==0:\n",
    "    if year%100==0:\n",
    "        if year%400==0:\n",
    "            print(f\"Entered year {year} is leap year\")\n",
    "        else:\n",
    "            print(\"Not Leap year\")\n",
    "    else:\n",
    "        print(f\"Entered year {year} is leap year\")\n",
    "else:\n",
    "    print(\"Not leap year\")"
   ]
  },
  {
   "cell_type": "code",
   "execution_count": null,
   "id": "c8aadce4",
   "metadata": {},
   "outputs": [],
   "source": [
    "try:\n",
    "    year=eval(input(\"Enter the year: \"))\n",
    "    if year%4==0:\n",
    "        if year%100==0:\n",
    "            if year%400==0:\n",
    "                print(f\"Entered year {year} is leap year\")\n",
    "            else:\n",
    "                print(\"Not Leap year\")\n",
    "        else:\n",
    "            print(f\"Entered year {year} is leap year\")\n",
    "    else:\n",
    "        print(\"Not leap year\")\n",
    "except Exception as e:\n",
    "    print(e)"
   ]
  },
  {
   "cell_type": "code",
   "execution_count": null,
   "id": "24f5dd90",
   "metadata": {},
   "outputs": [],
   "source": [
    "def leap():\n",
    "    year=eval(input(\"Enter the year: \"))\n",
    "    if year%4==0:\n",
    "        if year%100==0:\n",
    "            if year%400==0:\n",
    "                print(f\"Entered year {year} is leap year\")\n",
    "            else:\n",
    "                print(\"Not Leap year\")\n",
    "        else:\n",
    "            print(f\"Entered year {year} is leap year\")\n",
    "    else:\n",
    "        print(\"Not leap year\")\n",
    "leap()"
   ]
  },
  {
   "cell_type": "code",
   "execution_count": null,
   "id": "718a3701",
   "metadata": {},
   "outputs": [],
   "source": [
    "def leap(year):\n",
    "    if year%4==0:\n",
    "        if year%100==0:\n",
    "            if year%400==0:\n",
    "                print(f\"Entered year {year} is leap year\")\n",
    "            else:\n",
    "                print(\"Not Leap year\")\n",
    "        else:\n",
    "            print(f\"Entered year {year} is leap year\")\n",
    "    else:\n",
    "        print(\"Not leap year\")\n",
    "year=eval(input(\"Enter the year: \"))\n",
    "leap(year)"
   ]
  },
  {
   "cell_type": "code",
   "execution_count": null,
   "id": "2324e4df",
   "metadata": {},
   "outputs": [],
   "source": [
    "def leap(year=2023):\n",
    "    if year%4==0:\n",
    "        if year%100==0:\n",
    "            if year%400==0:\n",
    "                print(f\"Entered year {year} is leap year\")\n",
    "            else:\n",
    "                print(\"Not Leap year\")\n",
    "        else:\n",
    "            print(f\"Entered year {year} is leap year\")\n",
    "    else:\n",
    "        print(\"Not leap year\")\n",
    "leap()"
   ]
  },
  {
   "cell_type": "markdown",
   "id": "df351d61",
   "metadata": {},
   "source": [
    "#### Problem-17(Use conditional statements)\n",
    "Write a program that asks the user to enter a number and prints out all the divisors of that number.\n",
    "[Hint: the % operator is used to tell if a number is divisible by something.\n"
   ]
  },
  {
   "cell_type": "code",
   "execution_count": null,
   "id": "ef036df1",
   "metadata": {},
   "outputs": [],
   "source": [
    "number=eval(input(\"Enter the number between 1-10: \"))\n",
    "def div(number,num):\n",
    "    if num>0:\n",
    "        if number%num==0:\n",
    "            print(num)\n",
    "        div(number,num-1)\n",
    "div(number,number-1)"
   ]
  },
  {
   "cell_type": "code",
   "execution_count": null,
   "id": "24882ef1",
   "metadata": {},
   "outputs": [],
   "source": [
    "number=eval(input(\"Enter the number between 1-10: \"))\n",
    "num=number-1\n",
    "if number==1:\n",
    "    print(\"1 has no divisors\")\n",
    "if num>0:\n",
    "    if number%num==0:\n",
    "        print(num)\n",
    "    num=num-1\n",
    "    if num>0:\n",
    "        if number%num==0:\n",
    "            print(num)\n",
    "    num=num-1\n",
    "    if num>0:\n",
    "        if number%num==0:\n",
    "            print(num)\n",
    "        num=num-1\n",
    "        if num>0:\n",
    "            if number%num==0:\n",
    "                print(num)\n",
    "            num=num-1\n",
    "            if num>0:\n",
    "                if number%num==0:\n",
    "                    print(num)\n",
    "                num=num-1\n",
    "                if num>0:\n",
    "                    if number%num==0:\n",
    "                        print(num)\n",
    "                    num=num-1\n",
    "                    if num>0:\n",
    "                        if number%num==0:\n",
    "                            print(num)\n",
    "                        num=num-1\n",
    "                        if num>0:\n",
    "                            if number%num==0:\n",
    "                                print(num)\n",
    "                            num=num-1\n",
    "                            if num>0:\n",
    "                                if number%num==0:\n",
    "                                    print(num)    "
   ]
  },
  {
   "cell_type": "code",
   "execution_count": null,
   "id": "2ab43005",
   "metadata": {},
   "outputs": [],
   "source": [
    "try:\n",
    "    number=eval(input(\"Enter the number between 1-10: \"))\n",
    "    num=number-1\n",
    "    if number==1:\n",
    "        print(\"1 has no divisors\")\n",
    "    if num>0:\n",
    "        if number%num==0:\n",
    "            print(num)\n",
    "        num=num-1\n",
    "        if num>0:\n",
    "            if number%num==0:\n",
    "                print(num)\n",
    "        num=num-1\n",
    "        if num>0:\n",
    "            if number%num==0:\n",
    "                print(num)\n",
    "            num=num-1\n",
    "            if num>0:\n",
    "                if number%num==0:\n",
    "                    print(num)\n",
    "                num=num-1\n",
    "                if num>0:\n",
    "                    if number%num==0:\n",
    "                        print(num)\n",
    "                    num=num-1\n",
    "                    if num>0:\n",
    "                        if number%num==0:\n",
    "                            print(num)\n",
    "                        num=num-1\n",
    "                        if num>0:\n",
    "                            if number%num==0:\n",
    "                                print(num)\n",
    "                            num=num-1\n",
    "                            if num>0:\n",
    "                                if number%num==0:\n",
    "                                    print(num)\n",
    "                                num=num-1\n",
    "                                if num>0:\n",
    "                                    if number%num==0:\n",
    "                                        print(num)   \n",
    "except Excception as e:\n",
    "    print(e)"
   ]
  },
  {
   "cell_type": "code",
   "execution_count": null,
   "id": "019b2c40",
   "metadata": {},
   "outputs": [],
   "source": [
    "def divisor():\n",
    "    number=eval(input(\"Enter the number between 1-10: \"))\n",
    "    num=number-1\n",
    "    if number==1:\n",
    "        print(\"1 has no divisors\")\n",
    "    if num>0:\n",
    "        if number%num==0:\n",
    "            print(num)\n",
    "        num=num-1\n",
    "        if num>0:\n",
    "            if number%num==0:\n",
    "                print(num)\n",
    "        num=num-1\n",
    "        if num>0:\n",
    "            if number%num==0:\n",
    "                print(num)\n",
    "            num=num-1\n",
    "            if num>0:\n",
    "                if number%num==0:\n",
    "                    print(num)\n",
    "                num=num-1\n",
    "                if num>0:\n",
    "                    if number%num==0:\n",
    "                        print(num)\n",
    "                    num=num-1\n",
    "                    if num>0:\n",
    "                        if number%num==0:\n",
    "                            print(num)\n",
    "                        num=num-1\n",
    "                        if num>0:\n",
    "                            if number%num==0:\n",
    "                                print(num)\n",
    "                            num=num-1\n",
    "                            if num>0:\n",
    "                                if number%num==0:\n",
    "                                    print(num)\n",
    "                                num=num-1\n",
    "                                if num>0:\n",
    "                                    if number%num==0:\n",
    "                                        print(num)    \n",
    "divisor()"
   ]
  },
  {
   "cell_type": "code",
   "execution_count": null,
   "id": "8e284683",
   "metadata": {},
   "outputs": [],
   "source": [
    "def divisor(number):\n",
    "    num=number-1\n",
    "    if number==1:\n",
    "        print(\"1 has no divisors\")\n",
    "    if num>0:\n",
    "        if number%num==0:\n",
    "            print(num)\n",
    "        num=num-1\n",
    "        if num>0:\n",
    "            if number%num==0:\n",
    "                print(num)\n",
    "        num=num-1\n",
    "        if num>0:\n",
    "            if number%num==0:\n",
    "                print(num)\n",
    "            num=num-1\n",
    "            if num>0:\n",
    "                if number%num==0:\n",
    "                    print(num)\n",
    "                num=num-1\n",
    "                if num>0:\n",
    "                    if number%num==0:\n",
    "                        print(num)\n",
    "                    num=num-1\n",
    "                    if num>0:\n",
    "                        if number%num==0:\n",
    "                            print(num)\n",
    "                        num=num-1\n",
    "                        if num>0:\n",
    "                            if number%num==0:\n",
    "                                print(num)\n",
    "                            num=num-1\n",
    "                            if num>0:\n",
    "                                if number%num==0:\n",
    "                                    print(num)\n",
    "                                num=num-1\n",
    "                                if num>0:\n",
    "                                    if number%num==0:\n",
    "                                        print(num)    \n",
    "number=eval(input(\"Enter the number between 1-10: \"))\n",
    "divisor(number)"
   ]
  },
  {
   "cell_type": "code",
   "execution_count": null,
   "id": "21ac1b9e",
   "metadata": {},
   "outputs": [],
   "source": [
    "def divisor(number=9):\n",
    "    num=number-1\n",
    "    if number==1:\n",
    "        print(\"1 has no divisors\")\n",
    "    if num>0:\n",
    "        if number%num==0:\n",
    "            print(num)\n",
    "        num=num-1\n",
    "        if num>0:\n",
    "            if number%num==0:\n",
    "                print(num)\n",
    "        num=num-1\n",
    "        if num>0:\n",
    "            if number%num==0:\n",
    "                print(num)\n",
    "            num=num-1\n",
    "            if num>0:\n",
    "                if number%num==0:\n",
    "                    print(num)\n",
    "                num=num-1\n",
    "                if num>0:\n",
    "                    if number%num==0:\n",
    "                        print(num)\n",
    "                    num=num-1\n",
    "                    if num>0:\n",
    "                        if number%num==0:\n",
    "                            print(num)\n",
    "                        num=num-1\n",
    "                        if num>0:\n",
    "                            if number%num==0:\n",
    "                                print(num)\n",
    "                            num=num-1\n",
    "                            if num>0:\n",
    "                                if number%num==0:\n",
    "                                    print(num)\n",
    "                                num=num-1\n",
    "                                if num>0:\n",
    "                                    if number%num==0:\n",
    "                                        print(num)    \n",
    "divisor()"
   ]
  },
  {
   "cell_type": "markdown",
   "id": "7bf85515",
   "metadata": {},
   "source": [
    "#### Problem-18(Use conditional statements)\n",
    "Write a program that asks the user for an hour between 1 and 12, asks them to enter am or pm, and\n",
    "asks them how many hours into the future they want to go.\n",
    "Print out what the hour will be that many hours into the future, printing am or pm as appropriate.\n",
    "An example is shown below.\n",
    "Enter hour: 8\n",
    "am (1) or pm (2)? 1\n",
    "How many hours ahead? 5\n",
    "New hour: 1 pm"
   ]
  },
  {
   "cell_type": "code",
   "execution_count": 211,
   "id": "4b85691b",
   "metadata": {},
   "outputs": [
    {
     "name": "stdout",
     "output_type": "stream",
     "text": [
      "Enter hour between 1 and 12: 9\n",
      "Select 1-AM or 2-PM: 1\n",
      "Time is 9 AM\n",
      "How many hours ahead: 51\n",
      "New hour: 0 PM\n"
     ]
    }
   ],
   "source": [
    "hour=eval(input(\"Enter hour between 1 and 12: \"))\n",
    "meri=eval(input(\"Select 1-AM or 2-PM: \"))\n",
    "if meri==1:\n",
    "    print(f\"Time is {hour} AM\")\n",
    "elif meri==2:\n",
    "    print(f\"Time is {hour} PM\")\n",
    "else:\n",
    "    print(\"Invalid meridian time\")\n",
    "if meri==1 or meri==2:\n",
    "    travel=eval(input(\"How many hours ahead: \"))\n",
    "    if (hour+travel)>12:\n",
    "        if meri==1:\n",
    "            if ((hour+travel)//12)%2==0:\n",
    "                if (hours+(travel%12))>12:\n",
    "                    print(f'New hour: {hour+(travel%12)-12} AM')\n",
    "                else:\n",
    "                    print(f'New hour: {hour+((travel)%12)} AM')\n",
    "            if ((hour+travel)//12)%2==1:\n",
    "                if (hours+(travel%12))>12:\n",
    "                    print(f'New hour: {hour+((travel)%12)-12} PM')\n",
    "                else:\n",
    "                    print(f'New hour: {hour+((travel)%12)} PM')\n",
    "        elif meri==2:\n",
    "            if ((hour+travel)//12)%2==0:\n",
    "                if (hours+(travel%12))>12:\n",
    "                    print(f'New hour: {hour+((travel)%12)-12} PM')\n",
    "                else:\n",
    "                    print(f'New hour: {hour+((travel)%12)} PM')\n",
    "            if ((hour+travel)//12)%2==1:\n",
    "                if (hours+(travel%12))>12:\n",
    "                    print(f'New hour: {hour+((travel)%12)-12} AM')\n",
    "                else:\n",
    "                    print(f'New hour: {hour+((travel)%12)} AM')\n",
    "\n",
    "        else:\n",
    "            print(\"Invalid meridian time\")\n",
    "    else:\n",
    "        if meri==1:\n",
    "            print(f'New hour: {hour+travel} AM')\n",
    "        elif meri==2:\n",
    "            print(f'New hour: {hour+travel} PM')\n",
    "        else:\n",
    "            print(\"Invalid meridian time\")"
   ]
  },
  {
   "cell_type": "code",
   "execution_count": 206,
   "id": "2e2b1f80",
   "metadata": {},
   "outputs": [
    {
     "name": "stdout",
     "output_type": "stream",
     "text": [
      "Enter hour between 1 and 12: 9\n",
      "Select 1-AM or 2-PM: 1\n",
      "Time is 9 AM\n",
      "How many hours ahead: 51\n",
      "New hour: 12 PM\n"
     ]
    }
   ],
   "source": [
    "try:\n",
    "    hour=eval(input(\"Enter hour between 1 and 12: \"))\n",
    "    meri=eval(input(\"Select 1-AM or 2-PM: \"))\n",
    "    if meri==1:\n",
    "        print(f\"Time is {hour} AM\")\n",
    "    else:\n",
    "        print(f\"Time is {hour} PM\")\n",
    "    travel=eval(input(\"How many hours ahead: \"))\n",
    "    if (hour+travel)>12:\n",
    "        if meri==1:\n",
    "            if ((hour+travel)//12)%2==0:\n",
    "                if  hours+(travel%12)>12:\n",
    "                    print(f'New hour: {hour+((travel)%12)-12} AM')\n",
    "                else:\n",
    "                    print(f'New hour: {hour+((travel)%12)} AM')\n",
    "            if ((hour+travel)//12)%2==1:\n",
    "                if  hours+(travel%12)>12:\n",
    "                    print(f'New hour: {hour+((travel)%12)} PM')\n",
    "                else:\n",
    "                    print(f'New hour: {hour+((travel)%12)-12} PM')\n",
    "        elif meri==2:\n",
    "            if ((hour+travel)//12)%2==0:\n",
    "                if  hours+(travel%12)>12:\n",
    "                    print(f'New hour: {hour+((travel)%12)-12} PM')\n",
    "                else:\n",
    "                    print(f'New hour: {hour+((travel)%12)} PM')\n",
    "            if ((hour+travel)//12)%2==1:\n",
    "                if  hours+(travel%12)>12:\n",
    "                    print(f'New hour: {hour+((travel)%12)} AM')\n",
    "                else:\n",
    "                    print(f'New hour: {hour+((travel)%12)-12} AM')\n",
    "\n",
    "        else:\n",
    "            print(\"Invalid meridian time\")\n",
    "    else:\n",
    "        if meri==1:\n",
    "            print(f'New hour: {hour+travel} AM')\n",
    "        elif meri==2:\n",
    "            print(f'New hour: {hour+travel} PM')\n",
    "        else:\n",
    "            print(\"Invalid meridian time\")\n",
    "except Exception as e:\n",
    "    print(e)"
   ]
  },
  {
   "cell_type": "code",
   "execution_count": null,
   "id": "a27a8dcf",
   "metadata": {},
   "outputs": [],
   "source": [
    "def future_hours():\n",
    "    hour=eval(input(\"Enter hour between 1 and 12: \"))\n",
    "    meri=eval(input(\"Select 1-AM or 2-PM: \"))\n",
    "    if meri==1:\n",
    "        print(f\"Time is {hour} AM\")\n",
    "    else:\n",
    "        print(f\"Time is {hour} PM\")\n",
    "    travel=eval(input(\"How many hours ahead: \"))\n",
    "    if (hour+travel)>12:\n",
    "        if meri==1:\n",
    "            if ((hour+travel)//12)%2==0:\n",
    "                if  hours+(travel%12)>12:\n",
    "                    print(f'New hour: {hour+((travel)%12)-12} AM')\n",
    "                else:\n",
    "                    print(f'New hour: {hour+((travel)%12)} AM')\n",
    "            if ((hour+travel)//12)%2==1:\n",
    "                if  hours+(travel%12)>12:\n",
    "                    print(f'New hour: {hour+((travel)%12)} PM')\n",
    "                else:\n",
    "                    print(f'New hour: {hour+((travel)%12)-12} PM')\n",
    "        elif meri==2:\n",
    "            if ((hour+travel)//12)%2==0:\n",
    "                if  hours+(travel%12)>12:\n",
    "                    print(f'New hour: {hour+((travel)%12)-12} PM')\n",
    "                else:\n",
    "                    print(f'New hour: {hour+((travel)%12)} PM')\n",
    "            if ((hour+travel)//12)%2==1:\n",
    "                if  hours+(travel%12)>12:\n",
    "                    print(f'New hour: {hour+((travel)%12)} AM')\n",
    "                else:\n",
    "                    print(f'New hour: {hour+((travel)%12)-12} AM')\n",
    "\n",
    "        else:\n",
    "            print(\"Invalid meridian time\")\n",
    "    else:\n",
    "        if meri==1:\n",
    "            print(f'New hour: {hour+travel} AM')\n",
    "        elif meri==2:\n",
    "            print(f'New hour: {hour+travel} PM')\n",
    "        else:\n",
    "            print(\"Invalid meridian time\")\n",
    "future_hours()"
   ]
  },
  {
   "cell_type": "code",
   "execution_count": 201,
   "id": "8f1013da",
   "metadata": {},
   "outputs": [
    {
     "name": "stdout",
     "output_type": "stream",
     "text": [
      "Enter hour between 1 and 12: 9\n",
      "Select 1-AM or 2-PM: 1\n",
      "How many hours ahead: 48\n",
      "Time is 9 AM\n",
      "New hour: -3 AM\n"
     ]
    }
   ],
   "source": [
    "def future_hours(hour,meri,travel):\n",
    "    if meri==1:\n",
    "        print(f\"Time is {hour} AM\")\n",
    "    else:\n",
    "        print(f\"Time is {hour} PM\")\n",
    "    if (hour+travel)>12:\n",
    "        if meri==1:\n",
    "            if ((hour+travel)//12)%2==0:\n",
    "                if  hours+(travel%12)>12:\n",
    "                    print(f'New hour: {hour+((travel)%12)-12} AM')\n",
    "                else:\n",
    "                    print(f'New hour: {hour+((travel)%12)} AM')\n",
    "            if ((hour+travel)//12)%2==1:\n",
    "                if  hours+(travel%12)>12:\n",
    "                    print(f'New hour: {hour+((travel)%12)} PM')\n",
    "                else:\n",
    "                    print(f'New hour: {hour+((travel)%12)-12} PM')\n",
    "        elif meri==2:\n",
    "            if ((hour+travel)//12)%2==0:\n",
    "                if  hours+(travel%12)>12:\n",
    "                    print(f'New hour: {hour+((travel)%12)-12} PM')\n",
    "                else:\n",
    "                    print(f'New hour: {hour+((travel)%12)} PM')\n",
    "            if ((hour+travel)//12)%2==1:\n",
    "                if  hours+(travel%12)>12:\n",
    "                    print(f'New hour: {hour+((travel)%12)} AM')\n",
    "                else:\n",
    "                    print(f'New hour: {hour+((travel)%12)-12} AM')\n",
    "\n",
    "        else:\n",
    "            print(\"Invalid meridian time\")\n",
    "    else:\n",
    "        if meri==1:\n",
    "            print(f'New hour: {hour+travel} AM')\n",
    "        elif meri==2:\n",
    "            print(f'New hour: {hour+travel} PM')\n",
    "        else:\n",
    "            print(\"Invalid meridian time\")\n",
    "hour=eval(input(\"Enter hour between 1 and 12: \"))\n",
    "meri=eval(input(\"Select 1-AM or 2-PM: \"))\n",
    "travel=eval(input(\"How many hours ahead: \"))\n",
    "future_hours(hour,meri,travel)"
   ]
  },
  {
   "cell_type": "code",
   "execution_count": 200,
   "id": "3d50fc1c",
   "metadata": {},
   "outputs": [
    {
     "name": "stdout",
     "output_type": "stream",
     "text": [
      "Time is 9 AM\n",
      "New hour: -3 AM\n"
     ]
    }
   ],
   "source": [
    "def future_hours(hour=9,meri=1,travel=48):\n",
    "    if meri==1:\n",
    "        print(f\"Time is {hour} AM\")\n",
    "    else:\n",
    "        print(f\"Time is {hour} PM\")\n",
    "    if (hour+travel)>12:\n",
    "        if meri==1:\n",
    "            if ((hour+travel)//12)%2==0:\n",
    "                if  hours+(travel%12)>12:\n",
    "                    print(f'New hour: {hour+((travel)%12)-12} AM')\n",
    "                else:\n",
    "                    print(f'New hour: {hour+((travel)%12)} AM')\n",
    "            if ((hour+travel)//12)%2==1:\n",
    "                if  hours+(travel%12)>12:\n",
    "                    print(f'New hour: {hour+((travel)%12)} PM')\n",
    "                else:\n",
    "                    print(f'New hour: {hour+((travel)%12)-12} PM')\n",
    "        elif meri==2:\n",
    "            if ((hour+travel)//12)%2==0:\n",
    "                if  hours+(travel%12)>12:\n",
    "                    print(f'New hour: {hour+((travel)%12)-12} PM')\n",
    "                else:\n",
    "                    print(f'New hour: {hour+((travel)%12)} PM')\n",
    "            if ((hour+travel)//12)%2==1:\n",
    "                if  hours+(travel%12)>12:\n",
    "                    print(f'New hour: {hour+((travel)%12)} AM')\n",
    "                else:\n",
    "                    print(f'New hour: {hour+((travel)%12)-12} AM')\n",
    "\n",
    "        else:\n",
    "            print(\"Invalid meridian time\")\n",
    "    else:\n",
    "        if meri==1:\n",
    "            print(f'New hour: {hour+travel} AM')\n",
    "        elif meri==2:\n",
    "            print(f'New hour: {hour+travel} PM')\n",
    "        else:\n",
    "            print(\"Invalid meridian time\")\n",
    "future_hours()"
   ]
  },
  {
   "cell_type": "code",
   "execution_count": null,
   "id": "7949466f",
   "metadata": {},
   "outputs": [],
   "source": []
  },
  {
   "cell_type": "code",
   "execution_count": null,
   "id": "0ceec2c6",
   "metadata": {},
   "outputs": [],
   "source": []
  },
  {
   "cell_type": "code",
   "execution_count": null,
   "id": "636a0334",
   "metadata": {},
   "outputs": [],
   "source": [
    "784%12"
   ]
  },
  {
   "cell_type": "code",
   "execution_count": null,
   "id": "e0261785",
   "metadata": {},
   "outputs": [],
   "source": [
    "if (hour+travel)>12:\n",
    "    if meri==1:\n",
    "        if ((hour+travel)//12)%2==0:\n",
    "            print(f'New hour: {hour+((travel)%12)} AM')\n",
    "    elif meri==2:\n",
    "        if ((hour+travel)//12)%2==1:\n",
    "            print(f'New hour: {hour+((travel)%12)} PM')\n",
    "    else:\n",
    "        print(\"Invalid meridian time\")\n",
    "else:\n",
    "    if meri==1:\n",
    "        print(f'New hour: {hour+travel} AM')\n",
    "    elif meri==2:\n",
    "        print(f'New hour: {hour+travel} PM')\n",
    "    else:\n",
    "        print(\"Invalid meridian time\")"
   ]
  },
  {
   "cell_type": "code",
   "execution_count": null,
   "id": "c3f33b3d",
   "metadata": {},
   "outputs": [],
   "source": [
    "hour=eval(input(\"Enter hour between 1 and 12: \"))\n",
    "meri=eval(input(\"Select 1-AM or 2-PM: \"))\n",
    "if meri==1:\n",
    "    print(f\"Time is {hour} AM\")\n",
    "else:\n",
    "    print(f\"Time is {hour} PM\")\n",
    "travel=eval(input(\"How many hours ahead: \"))\n",
    "if (hour+travel)>12:\n",
    "    if meri==1:\n",
    "        if ((hour+travel)//12)%2==0:\n",
    "            if  hours+(travel%12)>12:\n",
    "                print(f'New hour: {hour+((travel)%12)-12} AM')\n",
    "            else:\n",
    "                print(f'New hour: {hour+((travel)%12)} AM')\n",
    "        if ((hour+travel)//12)%2==1:\n",
    "            if  hours+(travel%12)>12:\n",
    "                print(f'New hour: {hour+((travel)%12)} PM')\n",
    "            else:\n",
    "                print(f'New hour: {hour+((travel)%12)-12} PM')\n",
    "    elif meri==2:\n",
    "        if ((hour+travel)//12)%2==0:\n",
    "            if  hours+(travel%12)>12:\n",
    "                print(f'New hour: {hour+((travel)%12)-12} PM')\n",
    "            else:\n",
    "                print(f'New hour: {hour+((travel)%12)} PM')\n",
    "        if ((hour+travel)//12)%2==1:\n",
    "            if  hours+(travel%12)>12:\n",
    "                print(f'New hour: {hour+((travel)%12)} AM')\n",
    "            else:\n",
    "                print(f'New hour: {hour+((travel)%12)-12} AM')\n",
    "        \n",
    "    else:\n",
    "        print(\"Invalid meridian time\")\n",
    "else:\n",
    "    if meri==1:\n",
    "        print(f'New hour: {hour+travel} AM')\n",
    "    elif meri==2:\n",
    "        print(f'New hour: {hour+travel} PM')\n",
    "    else:\n",
    "        print(\"Invalid meridian time\")"
   ]
  },
  {
   "cell_type": "code",
   "execution_count": null,
   "id": "edc3b78f",
   "metadata": {},
   "outputs": [],
   "source": []
  },
  {
   "cell_type": "code",
   "execution_count": null,
   "id": "ede1ea2c",
   "metadata": {},
   "outputs": [],
   "source": []
  }
 ],
 "metadata": {
  "kernelspec": {
   "display_name": "Python 3 (ipykernel)",
   "language": "python",
   "name": "python3"
  },
  "language_info": {
   "codemirror_mode": {
    "name": "ipython",
    "version": 3
   },
   "file_extension": ".py",
   "mimetype": "text/x-python",
   "name": "python",
   "nbconvert_exporter": "python",
   "pygments_lexer": "ipython3",
   "version": "3.11.4"
  }
 },
 "nbformat": 4,
 "nbformat_minor": 5
}
